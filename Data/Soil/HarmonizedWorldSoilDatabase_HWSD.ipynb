{
 "cells": [
  {
   "cell_type": "markdown",
   "metadata": {},
   "source": [
    "## Title: Harmonized World Soil Database (HWSD)\n",
    "\n",
    "### Description\n",
    "The HWSD is a 30 arc-second raster database with over 16000 different soil mapping units that combines existing regional and national updates of soil information worldwide (SOTER, ESD, Soil Map of China, WISE) with the information contained within the 1:5 000 000 scale FAO-UNESCO Soil Map of the World (FAO, 19711981).\n",
    "\n",
    "The resulting raster database consists of 21600 rows and 43200 columns, which are linked to harmonized soil property data. The use of a standardized structure allows for the linkage of the attribute data with the raster map to display or query the composition in terms of soil units and the characterization of selected soil parameters (organic Carbon, pH, water storage capacity, soil depth, cation exchange capacity of the soil and the clay fraction, total exchangeable nutrients, lime and gypsum contents, sodium exchange percentage, salinity, textural class and granulometry).\n",
    "\n",
    "### FLINT\n",
    "This dataset has been checked/pre-processed and is suitable for use in FLINT. Please adhere to individual dataset licence conditions and citations. Processed data can be accessed here: [Land Sector Datasets](https://datasets.mojaglobal.workers.dev/) https://datasets.mojaglobal.workers.dev/<br>\n",
    "\n",
    "### Format\n",
    "<b>Extent: </b>Global coverage <br>\n",
    "<b>Resolution:</b> Raster 0.005deg resolution, geotiff (.tif)<br>\n",
    "<b>File type:</b> geotiff (.tif)<br>\n",
    "<b>Cordinate system:</b> EPSG:4326 (WGS84)<br>\n",
    "<b>Year: </b>2012<br>\n",
    "<b>Size:</b> 48MB\n",
    "    \n",
    "### Original source\n",
    "Download in .bil raster format (30 sec arc 0.00833333333332575-degree resolution) from http://webarchive.iiasa.ac.at/Research/LUC/External-World-soil-database/HTML/HWSD_Data.html?sb=4 Accessed 20/12/2020. \n",
    "\n",
    "### Licence\n",
    "\"Creative Commons Non-Commercial CC BY-NC 3.0\" <br>\n",
    "© 2008-2012 COPYRIGHT FAO, IIASA, ISRIC, ISSCAS, JRC\n",
    "All rights reserved. No part of this Harmonized World Soil Database may be reproduced, stored in a retrieval system or transmitted by any means for resale or other commercial purposes without written permission of the copyright holders. Reproduction and dissemination of material in this information product for educational or other noncommercial purposes are authorized without any prior written permission from the copyright holders provided the source is fully acknowledged. \n",
    "\n",
    "### Citation\n",
    "Full acknowledgement and referencing of all sources must be included in any documentation using any of the material contained in the Harmonized World Soil Database, as follows: FAO/IIASA/ISRIC/ISSCAS/JRC, 2012. Harmonized World Soil Database (version 1.2). FAO, Rome, Italy and IIASA, Laxenburg, Austria.\n",
    "\n",
    "### Metadata\n",
    "Documentation: http://webarchive.iiasa.ac.at/Research/LUC/External-World-soil-database/HWSD_Documentation.pdf\n",
    "\n",
    "### Notes\n",
    "Each pixel value is related to the HWSD MU_GLOBAL code(Value 0 - 32050). The HWSD is composed of a GIS raster image file linked to an attribute database in Microsoft Access format. This code(Value) qualifies soil type, soil properties and chemistry. Value zero is water and equivalent to NoData.<br>\n",
    "\n",
    "In the moja-global datastore, two tiff versions are provided at 0.005deg resolution. HSWD.tif which has the raw MU_GLOBAL code(Value 0 - 32050)and HSWD_Data.tif which carries the HWSD Access database data based on the MU_GLOBAL code(Value). Two csv [dataTables](https://datasets.mojaglobal.workers.dev/0:/World_datasets/Soil/tiff/HarmonisedWorldSoilDatabase/) are also provided summarising the data relationships.\n",
    "\n",
    "### Processing\n",
    "Dataset is re-processed (resampled) to the nearest 0.005 degrees resolution (extent 180.0 -90.0 180.0 90.0), warping the coordinate system from unknown to WGS84, building raster attribute table, exporting to tif (compressed LZ77), joinging Soil Mapping Unit (SU_SYMBOL) attributes and soil data attributes from the Access Database. Use the below code (one or the other) to resample to different resolution by changing \"-r 0.005 0.005.\" Code type 1 reprocesses the original bil raster, Code type 2 reprocesses the moja-global HSWD.tif or HSWD_Data.tif. The HSWD_Data.tif version has all the soil properties data joined from the Access Database - see tiff attribute table. However, FLINT may not recognise these additional fields\n",
    "\n",
    "Please note, FLINT may not recogise additional raster attribute data so please use the provided csv data tables or link to the original Access Database to determine the info you need."
   ]
  },
  {
   "cell_type": "code",
   "execution_count": null,
   "metadata": {},
   "outputs": [],
   "source": [
    "# Code type 1 convert .bil to tiff and restructure the tiff to resolution -tr\n",
    "gdalwarp -t_srs EPSG:4326 -tr 0.005 0.005 -r near -te -180.0 -90.0 180.0 90.0 -te_srs EPSG:4326 -of GTiff -co COMPRESS=DEFLATE -co PREDICTOR=2 -co ZLEVEL=9 C:/Data/downloads/HWSD_RASTER_original/hwsd.bil C:/Data/tiff/HWSD.tif"
   ]
  },
  {
   "cell_type": "code",
   "execution_count": null,
   "metadata": {},
   "outputs": [],
   "source": [
    "# Code type 2 convert tiff with joined data from moja-gloabl version and restructure the tiff to resolution -tr\n",
    "gdalwarp -t_srs EPSG:4326 -tr 0.005 0.005 -r near -te -180.0 -90.0 180.0 90.0 -te_srs EPSG:4326 -of GTiff -co COMPRESS=DEFLATE -co PREDICTOR=2 -co ZLEVEL=9 C:/Data/HSWD_Data.tif C:/Data/tiff/HWSD_Data_Resampled.tif"
   ]
  }
 ],
 "metadata": {
  "kernelspec": {
   "display_name": "Python 3",
   "language": "python",
   "name": "python3"
  },
  "language_info": {
   "codemirror_mode": {
    "name": "ipython",
    "version": 3
   },
   "file_extension": ".py",
   "mimetype": "text/x-python",
   "name": "python",
   "nbconvert_exporter": "python",
   "pygments_lexer": "ipython3",
   "version": "3.8.5"
  }
 },
 "nbformat": 4,
 "nbformat_minor": 4
}
